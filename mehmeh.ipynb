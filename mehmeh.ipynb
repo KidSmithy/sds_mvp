{
 "cells": [
  {
   "cell_type": "code",
   "execution_count": 1,
   "id": "f4d3859f",
   "metadata": {},
   "outputs": [],
   "source": [
    "import pandas as pd"
   ]
  },
  {
   "cell_type": "code",
   "execution_count": 3,
   "metadata": {},
   "outputs": [],
   "source": [
    "data = pd.read_excel(\"test.xlsm\", sheet_name='Reference Table1')"
   ]
  },
  {
   "cell_type": "code",
   "execution_count": 4,
   "metadata": {},
   "outputs": [
    {
     "data": {
      "text/html": [
       "<div>\n",
       "<style scoped>\n",
       "    .dataframe tbody tr th:only-of-type {\n",
       "        vertical-align: middle;\n",
       "    }\n",
       "\n",
       "    .dataframe tbody tr th {\n",
       "        vertical-align: top;\n",
       "    }\n",
       "\n",
       "    .dataframe thead th {\n",
       "        text-align: right;\n",
       "    }\n",
       "</style>\n",
       "<table border=\"1\" class=\"dataframe\">\n",
       "  <thead>\n",
       "    <tr style=\"text-align: right;\">\n",
       "      <th></th>\n",
       "      <th>Product</th>\n",
       "      <th>Total Positions</th>\n",
       "      <th>Lee Hua's remark</th>\n",
       "      <th>Note: This table is for product reference (based on HTOL Forecast)</th>\n",
       "    </tr>\n",
       "  </thead>\n",
       "  <tbody>\n",
       "    <tr>\n",
       "      <th>0</th>\n",
       "      <td>Arcadia</td>\n",
       "      <td>TBD</td>\n",
       "      <td>NaN</td>\n",
       "      <td>NaN</td>\n",
       "    </tr>\n",
       "    <tr>\n",
       "      <th>1</th>\n",
       "      <td>Ar</td>\n",
       "      <td>121</td>\n",
       "      <td>NaN</td>\n",
       "      <td>**Need to control the source of this table</td>\n",
       "    </tr>\n",
       "    <tr>\n",
       "      <th>2</th>\n",
       "      <td>Atlas Classic</td>\n",
       "      <td>240</td>\n",
       "      <td>NaN</td>\n",
       "      <td>if standardized the naming will impact the macro</td>\n",
       "    </tr>\n",
       "    <tr>\n",
       "      <th>3</th>\n",
       "      <td>AZ</td>\n",
       "      <td>448</td>\n",
       "      <td>NaN</td>\n",
       "      <td>NaN</td>\n",
       "    </tr>\n",
       "    <tr>\n",
       "      <th>4</th>\n",
       "      <td>Bergamo</td>\n",
       "      <td>448</td>\n",
       "      <td>NaN</td>\n",
       "      <td>NaN</td>\n",
       "    </tr>\n",
       "    <tr>\n",
       "      <th>...</th>\n",
       "      <td>...</td>\n",
       "      <td>...</td>\n",
       "      <td>...</td>\n",
       "      <td>...</td>\n",
       "    </tr>\n",
       "    <tr>\n",
       "      <th>73</th>\n",
       "      <td>XASV59</td>\n",
       "      <td>192</td>\n",
       "      <td>NaN</td>\n",
       "      <td>NaN</td>\n",
       "    </tr>\n",
       "    <tr>\n",
       "      <th>74</th>\n",
       "      <td>X10</td>\n",
       "      <td>240</td>\n",
       "      <td>NaN</td>\n",
       "      <td>NaN</td>\n",
       "    </tr>\n",
       "    <tr>\n",
       "      <th>75</th>\n",
       "      <td>X20</td>\n",
       "      <td>240</td>\n",
       "      <td>ABI Platform</td>\n",
       "      <td>NaN</td>\n",
       "    </tr>\n",
       "    <tr>\n",
       "      <th>76</th>\n",
       "      <td>X50</td>\n",
       "      <td>180</td>\n",
       "      <td>ABI Platform</td>\n",
       "      <td>NaN</td>\n",
       "    </tr>\n",
       "    <tr>\n",
       "      <th>77</th>\n",
       "      <td>X9</td>\n",
       "      <td>54</td>\n",
       "      <td>ABI Platform</td>\n",
       "      <td>NaN</td>\n",
       "    </tr>\n",
       "  </tbody>\n",
       "</table>\n",
       "<p>78 rows × 4 columns</p>\n",
       "</div>"
      ],
      "text/plain": [
       "          Product Total Positions Lee Hua's remark  \\\n",
       "0         Arcadia             TBD              NaN   \n",
       "1              Ar             121              NaN   \n",
       "2   Atlas Classic             240              NaN   \n",
       "3              AZ             448              NaN   \n",
       "4         Bergamo             448              NaN   \n",
       "..            ...             ...              ...   \n",
       "73         XASV59             192              NaN   \n",
       "74            X10             240              NaN   \n",
       "75            X20             240     ABI Platform   \n",
       "76            X50             180     ABI Platform   \n",
       "77             X9              54     ABI Platform   \n",
       "\n",
       "   Note: This table is for product reference (based on HTOL Forecast)  \n",
       "0                                                 NaN                  \n",
       "1          **Need to control the source of this table                  \n",
       "2    if standardized the naming will impact the macro                  \n",
       "3                                                 NaN                  \n",
       "4                                                 NaN                  \n",
       "..                                                ...                  \n",
       "73                                                NaN                  \n",
       "74                                                NaN                  \n",
       "75                                                NaN                  \n",
       "76                                                NaN                  \n",
       "77                                                NaN                  \n",
       "\n",
       "[78 rows x 4 columns]"
      ]
     },
     "execution_count": 4,
     "metadata": {},
     "output_type": "execute_result"
    }
   ],
   "source": [
    "data"
   ]
  },
  {
   "cell_type": "code",
   "execution_count": 5,
   "id": "5eb2d43d",
   "metadata": {},
   "outputs": [
    {
     "data": {
      "text/plain": [
       "Index(['Product', 'Total Positions', 'Lee Hua's remark',\n",
       "       'Note: This table is for product reference (based on HTOL Forecast)'],\n",
       "      dtype='object')"
      ]
     },
     "execution_count": 5,
     "metadata": {},
     "output_type": "execute_result"
    }
   ],
   "source": [
    "data.columns"
   ]
  },
  {
   "cell_type": "code",
   "execution_count": null,
   "id": "e8821e80",
   "metadata": {},
   "outputs": [],
   "source": []
  }
 ],
 "metadata": {
  "kernelspec": {
   "display_name": "base",
   "language": "python",
   "name": "python3"
  },
  "language_info": {
   "codemirror_mode": {
    "name": "ipython",
    "version": 3
   },
   "file_extension": ".py",
   "mimetype": "text/x-python",
   "name": "python",
   "nbconvert_exporter": "python",
   "pygments_lexer": "ipython3",
   "version": "3.9.16"
  }
 },
 "nbformat": 4,
 "nbformat_minor": 5
}
